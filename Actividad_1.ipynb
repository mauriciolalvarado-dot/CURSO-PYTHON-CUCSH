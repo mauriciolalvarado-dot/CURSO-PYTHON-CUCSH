{
  "nbformat": 4,
  "nbformat_minor": 0,
  "metadata": {
    "colab": {
      "provenance": [],
      "mount_file_id": "1tS0owWfMnyH7S_1xBhHoHE3ujzhoozsl",
      "authorship_tag": "ABX9TyNR6inKY97UMGwuHMaaQDPx",
      "include_colab_link": true
    },
    "kernelspec": {
      "name": "python3",
      "display_name": "Python 3"
    },
    "language_info": {
      "name": "python"
    }
  },
  "cells": [
    {
      "cell_type": "markdown",
      "metadata": {
        "id": "view-in-github",
        "colab_type": "text"
      },
      "source": [
        "<a href=\"https://colab.research.google.com/github/mauriciolalvarado-dot/CURSO-PYTHON-CUCSH/blob/main/Actividad_1.ipynb\" target=\"_parent\"><img src=\"https://colab.research.google.com/assets/colab-badge.svg\" alt=\"Open In Colab\"/></a>"
      ]
    },
    {
      "cell_type": "markdown",
      "source": [],
      "metadata": {
        "id": "h7mHi47xHU5o"
      }
    },
    {
      "cell_type": "markdown",
      "source": [
        "# **Actividad 1.**\n",
        "Mauricio López Alvarado.\n",
        "\n",
        "CUCSH.\n",
        "\n",
        "10 de septiembre de 2025\n"
      ],
      "metadata": {
        "id": "ZJGFpWw7IN_4"
      }
    },
    {
      "cell_type": "code",
      "source": [
        "from google.colab import drive\n",
        "drive.mount('/content/drive')"
      ],
      "metadata": {
        "id": "MZUnDh_kaIl-"
      },
      "execution_count": null,
      "outputs": []
    },
    {
      "cell_type": "markdown",
      "source": [
        "# Sección nueva"
      ],
      "metadata": {
        "id": "D3UmE-KKZgtU"
      }
    },
    {
      "cell_type": "code",
      "source": [
        "import datetime\n",
        "\n",
        "# Hora (Tiempo Universal Coordinado, UTC) y fecha\n",
        "now = datetime.datetime.now()\n",
        "print(f\"Fecha y hora (UTC): {now.strftime('%Y-%m-%d %H:%M:%S')}\")"
      ],
      "metadata": {
        "colab": {
          "base_uri": "https://localhost:8080/"
        },
        "id": "qVBtWqWFPNmK",
        "outputId": "36e98350-3103-4d05-b5d4-64d10460c7e4"
      },
      "execution_count": null,
      "outputs": [
        {
          "output_type": "stream",
          "name": "stdout",
          "text": [
            "Fecha y hora (UTC): 2025-09-11 01:42:44\n"
          ]
        }
      ]
    },
    {
      "cell_type": "markdown",
      "source": [
        "Python me facilita el manejo de grandes bases de datos administrativas y registros policiales; en tanto el área de investigación que realizo tiene que ver con el tema policial.\n",
        "Permite aplicar análisis estadístico riguroso para identificar patrones de conducta institucional y territorial.\n",
        "Además, Python me facilita el procesamiento de texto para analizar discursos, actas y prensa, aportando evidencia cualitativa cuantificable sobre el tema policial.\n"
      ],
      "metadata": {
        "id": "slZmqrrxcn41"
      }
    },
    {
      "cell_type": "code",
      "source": [
        "import sys\n",
        "\n",
        "# Version de phthon\n",
        "print(f\"Versión de Python: {sys.version}\")"
      ],
      "metadata": {
        "colab": {
          "base_uri": "https://localhost:8080/"
        },
        "id": "c27a-hD1R6Kq",
        "outputId": "f0a2207a-949f-4cde-892c-f6fea5133ca8"
      },
      "execution_count": null,
      "outputs": [
        {
          "output_type": "stream",
          "name": "stdout",
          "text": [
            "Versión de Python: 3.12.11 (main, Jun  4 2025, 08:56:18) [GCC 11.4.0]\n"
          ]
        }
      ]
    },
    {
      "cell_type": "code",
      "source": [
        "import platform\n",
        "\n",
        "# Parámetros del entorno de ejecución (ejemplo con algunas variables de entorno)\n",
        "print(\"\\nParámetros del entorno de ejecución:\")\n",
        "print(f\"Sistema operativo: {platform.system()} {platform.release()}\")\n",
        "print(f\"Nombre del nodo: {platform.node()}\")\n",
        "print(f\"Arquitectura: {platform.machine()}\")\n",
        "print(f\"Procesador: {platform.processor()}\")"
      ],
      "metadata": {
        "colab": {
          "base_uri": "https://localhost:8080/"
        },
        "id": "FYWXM4RnSoNj",
        "outputId": "dd2e5be3-9448-43ee-e14a-6dae911ad6a8"
      },
      "execution_count": null,
      "outputs": [
        {
          "output_type": "stream",
          "name": "stdout",
          "text": [
            "\n",
            "Parámetros del entorno de ejecución:\n",
            "Sistema operativo: Linux 6.1.123+\n",
            "Nombre del nodo: 1ce09c4e9ae7\n",
            "Arquitectura: x86_64\n",
            "Procesador: x86_64\n"
          ]
        }
      ]
    }
  ]
}