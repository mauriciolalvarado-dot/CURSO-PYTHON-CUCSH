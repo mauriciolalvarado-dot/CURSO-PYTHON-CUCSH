{
  "nbformat": 4,
  "nbformat_minor": 0,
  "metadata": {
    "colab": {
      "provenance": [],
      "authorship_tag": "ABX9TyNNnNnERc0uqwVFM1IZLq1n",
      "include_colab_link": true
    },
    "kernelspec": {
      "name": "python3",
      "display_name": "Python 3"
    },
    "language_info": {
      "name": "python"
    }
  },
  "cells": [
    {
      "cell_type": "markdown",
      "metadata": {
        "id": "view-in-github",
        "colab_type": "text"
      },
      "source": [
        "<a href=\"https://colab.research.google.com/github/mauriciolalvarado-dot/CURSO-PYTHON-CUCSH/blob/main/Proyecto_Chatbot.ipynb\" target=\"_parent\"><img src=\"https://colab.research.google.com/assets/colab-badge.svg\" alt=\"Open In Colab\"/></a>"
      ]
    },
    {
      "cell_type": "markdown",
      "source": [
        "**Mauricio López Alvarado**\n",
        "\n",
        "Análisis y visualización de datos con Phyton en la nube\n",
        "\n",
        "Curso CUCSH PROINNOVA\n",
        "\n",
        "Actividad: **CHAT BOT SIMPLE**\n",
        "\n",
        "*Unidad 2. Proyecto 1*\n",
        "\n"
      ],
      "metadata": {
        "id": "N3TrEFa6OPxY"
      }
    },
    {
      "cell_type": "code",
      "source": [
        "print('¡Hola! Soy un ChatBot.')\n",
        "print('Me crearon en 2025 como parte de un ejercicio.')\n",
        "print('¿Y tu nombre cual es?.')\n",
        "nombre_usuario = str(input(\"Por favor, introduce tu nombre: \")) # Pass the prompt string directly to input()\n",
        "print('¡Me encanta tu nombre, ' + nombre_usuario + \"!\") # Use the nombre_usuario variable"
      ],
      "metadata": {
        "colab": {
          "base_uri": "https://localhost:8080/"
        },
        "id": "Hs6NFnaWl7Qw",
        "outputId": "4bc392b3-1b96-4f23-9f49-cbcc96f3461c"
      },
      "execution_count": 5,
      "outputs": [
        {
          "output_type": "stream",
          "name": "stdout",
          "text": [
            "¡Hola! Soy un ChatBot.\n",
            "Me crearon en 2025 como parte de un ejercicio.\n",
            "¿Y tu nombre cual es?.\n",
            "Por favor, introduce tu nombre: Mauricio\n",
            "¡Me encanta tu nombre, Mauricio!\n"
          ]
        }
      ]
    },
    {
      "cell_type": "code",
      "source": [
        "def adivinar_edad():\n",
        "    print('Imagina un personaje humano. Debes conocer su edad. Me gustaría adivinar la edad de este personaje ficticio, ' + nombre_usuario + '.')\n",
        "    print('Para ello, te voy a hacer tres preguntas:')\n",
        "\n",
        "    rem3 = int(input('¿Cuál es el residuo de la división de su edad entre 3?\\n'))\n",
        "    rem5 = int(input('¿Cuál es el residuo de la división de su edad entre 5?\\n'))\n",
        "    rem7 = int(input('¿Cuál es el residuo de la división de su edad entre 7?\\n'))\n",
        "    age = (rem3 * 70 + rem5 * 21 + rem7 * 15) % 105\n",
        "\n",
        "    print(\"Creo que su edad es \" + str(age) + \" años. ¡Espero no haberme equivocado!\")\n",
        "\n",
        "adivinar_edad()"
      ],
      "metadata": {
        "colab": {
          "base_uri": "https://localhost:8080/"
        },
        "id": "YrZgQ4DAnJMo",
        "outputId": "c8e1c9c4-220e-425a-b1a3-d39f3994655e"
      },
      "execution_count": 6,
      "outputs": [
        {
          "output_type": "stream",
          "name": "stdout",
          "text": [
            "Imagina un personaje humano. Debes conocer su edad. Me gustaría adivinar la edad de este personaje ficticio, Mauricio.\n",
            "Para ello, te voy a hacer tres preguntas:\n",
            "¿Cuál es el residuo de la división de su edad entre 3?\n",
            "1\n",
            "¿Cuál es el residuo de la división de su edad entre 5?\n",
            "3\n",
            "¿Cuál es el residuo de la división de su edad entre 7?\n",
            "2\n",
            "Creo que su edad es 58 años. ¡Espero no haberme equivocado!\n"
          ]
        }
      ]
    },
    {
      "cell_type": "code",
      "source": [
        "def test():\n",
        "    print(\"¿Cuál de las siguientes afirmaciones es correcta sobre la ciudad de Guadalajara?\")\n",
        "    print('Para responder la pregunta escribe el número de una de las siguientes respuestas:')\n",
        "    print('1. Es la capital del estado de Guanajuato.')\n",
        "    print('2. Es conocida como la \"Perla Tapatía\".')\n",
        "    print('3. Fue fundada en 1921.')\n",
        "    print('4. Está ubicada en la península de Yucatán.')\n",
        "    respuesta = int(input())\n",
        "    while respuesta != 2:\n",
        "        print('Respuesta incorrecta, intente otra vez.')\n",
        "        respuesta = int(input())\n",
        "    print(\"Muy bien, \" + nombre_usuario + \"! Su respuesta fue correcta.\")\n",
        "\n",
        "test()"
      ],
      "metadata": {
        "colab": {
          "base_uri": "https://localhost:8080/"
        },
        "id": "KEZJHIJxond5",
        "outputId": "2af48886-ebae-432e-e7b2-1ed1d462a31f"
      },
      "execution_count": 7,
      "outputs": [
        {
          "output_type": "stream",
          "name": "stdout",
          "text": [
            "¿Cuál de las siguientes afirmaciones es correcta sobre la ciudad de Guadalajara?\n",
            "Para responder la pregunta escribe el número de una de las siguientes respuestas:\n",
            "1. Es la capital del estado de Guanajuato.\n",
            "2. Es conocida como la \"Perla Tapatía\".\n",
            "3. Fue fundada en 1921.\n",
            "4. Está ubicada en la península de Yucatán.\n",
            "2\n",
            "Muy bien, Mauricio! Su respuesta fue correcta.\n"
          ]
        }
      ]
    },
    {
      "cell_type": "code",
      "source": [
        "print('Hasta la proxima, ' + nombre_usuario + '!')"
      ],
      "metadata": {
        "colab": {
          "base_uri": "https://localhost:8080/"
        },
        "id": "Gp7qT5ZnpEE_",
        "outputId": "40d670a6-ad91-4695-ed32-20de44068969"
      },
      "execution_count": 8,
      "outputs": [
        {
          "output_type": "stream",
          "name": "stdout",
          "text": [
            "Hasta la proxima, Mauricio!\n"
          ]
        }
      ]
    }
  ]
}