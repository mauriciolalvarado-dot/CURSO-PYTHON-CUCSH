{
  "nbformat": 4,
  "nbformat_minor": 0,
  "metadata": {
    "colab": {
      "provenance": [],
      "authorship_tag": "ABX9TyMIvpVumHPc8zl987AoOWF4",
      "include_colab_link": true
    },
    "kernelspec": {
      "name": "python3",
      "display_name": "Python 3"
    },
    "language_info": {
      "name": "python"
    }
  },
  "cells": [
    {
      "cell_type": "markdown",
      "metadata": {
        "id": "view-in-github",
        "colab_type": "text"
      },
      "source": [
        "<a href=\"https://colab.research.google.com/github/mauriciolalvarado-dot/CURSO-PYTHON-CUCSH/blob/main/Untitled4.ipynb\" target=\"_parent\"><img src=\"https://colab.research.google.com/assets/colab-badge.svg\" alt=\"Open In Colab\"/></a>"
      ]
    },
    {
      "cell_type": "code",
      "execution_count": 1,
      "metadata": {
        "id": "0-e-eJixLums"
      },
      "outputs": [],
      "source": [
        "import json\n",
        "import requests\n",
        "\n",
        "def currency_search(cur):\n",
        "    r = requests.get(\"http://www.floatrates.com/daily/{}.json\".format(cur))\n",
        "    return r.text\n",
        "\n",
        "exchange_file = currency_search(\"mxn\")\n",
        "exchange_dict = json.loads(exchange_file)"
      ]
    },
    {
      "cell_type": "code",
      "source": [],
      "metadata": {
        "colab": {
          "base_uri": "https://localhost:8080/"
        },
        "id": "O8AEFrlNPaJ0",
        "outputId": "86c82238-5222-4214-b278-d2c9d83c5f4e"
      },
      "execution_count": 6,
      "outputs": [
        {
          "output_type": "stream",
          "name": "stdout",
          "text": [
            "Introduce el código de la divisa de origen (por ejemplo, USD, MXN): MXN\n",
            "Datos de cambio para MXN descargados exitosamente.\n"
          ]
        }
      ]
    },
    {
      "cell_type": "markdown",
      "source": [
        "Preguntar al usuario el código de divisa de destino, monto a convertir y realizar la conversión"
      ],
      "metadata": {
        "id": "C7EIoeMgQz78"
      }
    },
    {
      "cell_type": "code",
      "source": [
        "while True:\n",
        "    target_currency = input(\"Introduce el código de la divisa de destino: \").lower()\n",
        "\n",
        "    if target_currency == \"exit\":\n",
        "        break\n",
        "\n",
        "    if target_currency not in exchange_dict:\n",
        "        print(f\"La divisa de destino '{target_currency.upper()}' no se encontró en los datos de cambio. Intenta con otra divisa.\")\n",
        "    else:\n",
        "        while True:\n",
        "            amount_str = input(f\"Introduce el monto en {source_currency.upper()} a convertir: \")\n",
        "            if amount_str.lower() == \"exit\":\n",
        "                break\n",
        "            try:\n",
        "                amount = float(amount_str)\n",
        "                exchange_rate = exchange_dict[target_currency]['rate']\n",
        "                converted_amount = amount * exchange_rate\n",
        "                print(f\"{amount:.2f} {source_currency.upper()} equivale a {converted_amount:.2f} {target_currency.upper()}\")\n",
        "                break # Exit amount loop\n",
        "            except ValueError:\n",
        "                print(\"Monto inválido. Por favor, introduce un número.\")\n",
        "        if amount_str.lower() == \"exit\":\n",
        "            break # Exit target currency loop if amount input was \"exit\""
      ],
      "metadata": {
        "colab": {
          "base_uri": "https://localhost:8080/"
        },
        "id": "g6m-7V6DRRBE",
        "outputId": "ffd73259-5f05-4829-bd91-4c94062f9cc1"
      },
      "execution_count": 8,
      "outputs": [
        {
          "name": "stdout",
          "output_type": "stream",
          "text": [
            "Introduce el código de la divisa de destino: EUR\n",
            "Introduce el monto en MXN a convertir: 1000\n",
            "1000.00 MXN equivale a 46.83 EUR\n",
            "Introduce el código de la divisa de destino: USD\n",
            "Introduce el monto en MXN a convertir: 1000\n",
            "1000.00 MXN equivale a 54.41 USD\n",
            "Introduce el código de la divisa de destino: XMD\n",
            "La divisa de destino 'XMD' no se encontró en los datos de cambio. Intenta con otra divisa.\n",
            "Introduce el código de la divisa de destino: RUB\n",
            "Introduce el monto en MXN a convertir: 1000\n",
            "1000.00 MXN equivale a 4441.27 RUB\n",
            "Introduce el código de la divisa de destino: %44\n",
            "La divisa de destino '%44' no se encontró en los datos de cambio. Intenta con otra divisa.\n",
            "Introduce el código de la divisa de destino: USD\n",
            "Introduce el monto en MXN a convertir: XMP\n",
            "Monto inválido. Por favor, introduce un número.\n",
            "Introduce el monto en MXN a convertir: 1000\n",
            "1000.00 MXN equivale a 54.41 USD\n",
            "Introduce el código de la divisa de destino: EXIT\n"
          ]
        }
      ]
    }
  ]
}