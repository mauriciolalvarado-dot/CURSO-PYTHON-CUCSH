{
  "nbformat": 4,
  "nbformat_minor": 0,
  "metadata": {
    "colab": {
      "provenance": [],
      "authorship_tag": "ABX9TyOosr4lAGBkoZG4xsWzE37C",
      "include_colab_link": true
    },
    "kernelspec": {
      "name": "python3",
      "display_name": "Python 3"
    },
    "language_info": {
      "name": "python"
    }
  },
  "cells": [
    {
      "cell_type": "markdown",
      "metadata": {
        "id": "view-in-github",
        "colab_type": "text"
      },
      "source": [
        "<a href=\"https://colab.research.google.com/github/mauriciolalvarado-dot/CURSO-PYTHON-CUCSH/blob/main/Actividad_2.ipynb\" target=\"_parent\"><img src=\"https://colab.research.google.com/assets/colab-badge.svg\" alt=\"Open In Colab\"/></a>"
      ]
    },
    {
      "cell_type": "markdown",
      "source": [
        "**Mauricio López Alvarado**\n",
        "CUCSH\n",
        "**Análisis y visualización de datos con Phyton en la nube**\n",
        "Curso PROINNOVA\n",
        "*Unidad 1. Actividad 2*\n",
        "Uso de Google Drive en combinación con Google Colab\n"
      ],
      "metadata": {
        "id": "pzU4hvCiCbRz"
      }
    },
    {
      "cell_type": "markdown",
      "source": [],
      "metadata": {
        "id": "bpjN3bCbnWH5"
      }
    },
    {
      "cell_type": "code",
      "source": [
        "from google.colab import drive\n",
        "drive.mount('/content/drive')"
      ],
      "metadata": {
        "id": "9DTKk_f0oFgx",
        "colab": {
          "base_uri": "https://localhost:8080/"
        },
        "outputId": "aea131b8-c767-40be-cd73-581cb4977aa2"
      },
      "execution_count": 16,
      "outputs": [
        {
          "output_type": "stream",
          "name": "stdout",
          "text": [
            "Drive already mounted at /content/drive; to attempt to forcibly remount, call drive.mount(\"/content/drive\", force_remount=True).\n"
          ]
        }
      ]
    },
    {
      "cell_type": "code",
      "source": [
        "from datetime import datetime\n",
        "\n",
        "# Obtener la fecha y hora actual del servidor\n",
        "fecha_hora_actual = datetime.now()\n",
        "\n",
        "# Imprimir la fecha y hora en formato legible\n",
        "print(\"Fecha y hora del servidor:\", fecha_hora_actual)\n"
      ],
      "metadata": {
        "colab": {
          "base_uri": "https://localhost:8080/"
        },
        "id": "ta7tGrjQo_LE",
        "outputId": "82a245de-548f-41c4-9d4a-017daecaa37c"
      },
      "execution_count": null,
      "outputs": [
        {
          "output_type": "stream",
          "name": "stdout",
          "text": [
            "Fecha y hora del servidor: 2025-10-18 14:05:53.157733\n"
          ]
        }
      ]
    },
    {
      "cell_type": "code",
      "source": [
        "nombre_archivo = \"Mi ejemplo de texto.txt\"\n",
        "ruta = \"/content/drive/MyDrive/CURSO PHYTON/\"\n",
        "\n",
        "with open(ruta + nombre_archivo, 'r', encoding='latin-1') as f:\n",
        "    contenido = f.read()\n",
        "    print(contenido)"
      ],
      "metadata": {
        "colab": {
          "base_uri": "https://localhost:8080/"
        },
        "outputId": "8e644563-adc4-4495-a9cc-bac9ea66813f",
        "id": "d3kdjMZ8rgPC"
      },
      "execution_count": 22,
      "outputs": [
        {
          "output_type": "stream",
          "name": "stdout",
          "text": [
            "En los estudios policiales que se han realizado en México se ha observado la conducta policial como ineficaz para realizar sus tareas y funciones.\n",
            "La conducta policial se ha explicado utilizando diversas variables.\n",
            "\n"
          ]
        }
      ]
    }
  ]
}