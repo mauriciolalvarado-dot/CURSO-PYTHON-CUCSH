{
  "nbformat": 4,
  "nbformat_minor": 0,
  "metadata": {
    "colab": {
      "provenance": [],
      "authorship_tag": "ABX9TyPZxtry399uSMGiqaW8E7WD",
      "include_colab_link": true
    },
    "kernelspec": {
      "name": "python3",
      "display_name": "Python 3"
    },
    "language_info": {
      "name": "python"
    }
  },
  "cells": [
    {
      "cell_type": "markdown",
      "metadata": {
        "id": "view-in-github",
        "colab_type": "text"
      },
      "source": [
        "<a href=\"https://colab.research.google.com/github/mauriciolalvarado-dot/CURSO-PYTHON-CUCSH/blob/main/Proyecto_Convertidor_de_divisas.ipynb\" target=\"_parent\"><img src=\"https://colab.research.google.com/assets/colab-badge.svg\" alt=\"Open In Colab\"/></a>"
      ]
    },
    {
      "cell_type": "markdown",
      "source": [
        "**Mauricio López Alvarado**\n",
        "\n",
        "Análisis y visualización de datos con Phyton en la nube\n",
        "\n",
        "Curso CUCSH PROINNOVA\n",
        "\n",
        "# Actividad: CONVERTIDOR DE DIVISAS\n",
        "\n",
        "Unidad 2. Proyecto 2\n",
        "\n"
      ],
      "metadata": {
        "id": "N3TrEFa6OPxY"
      }
    },
    {
      "cell_type": "code",
      "execution_count": null,
      "metadata": {
        "id": "pU33OoatPVcf"
      },
      "outputs": [],
      "source": []
    },
    {
      "cell_type": "code",
      "execution_count": 3,
      "metadata": {
        "id": "0-e-eJixLums"
      },
      "outputs": [],
      "source": [
        "import json\n",
        "import requests\n",
        "\n",
        "def currency_search(cur):\n",
        "    r = requests.get(\"http://www.floatrates.com/daily/{}.json\".format(cur))\n",
        "    return r.text\n",
        "\n",
        "exchange_file = currency_search(\"mxn\")\n",
        "exchange_dict = json.loads(exchange_file)"
      ]
    },
    {
      "cell_type": "code",
      "source": [
        "print(\"\"\"\n",
        "Es un convertidor de divisas.\n",
        "Introduce el código de tres letras de la divisa inicial (por ejemplo, MXN),\n",
        "código de divisa destino (por ejemplo, USD) y la cantidad que pretendes convertir.\n",
        "El resultado será la cantidad en la divisa destino.\n",
        "Si quieres salir de programa, solo pulsa la tecla Enter al momento de especificar\n",
        "la divisa.\n",
        "¡Suerte en tus conversiones!\n",
        "------------------------------------------------------------------------------\n",
        "\"\"\")"
      ],
      "metadata": {
        "colab": {
          "base_uri": "https://localhost:8080/"
        },
        "id": "BCakXNrn0Sxo",
        "outputId": "6e90af90-73ec-4a24-ea55-397280868591"
      },
      "execution_count": 4,
      "outputs": [
        {
          "output_type": "stream",
          "name": "stdout",
          "text": [
            "\n",
            "Es un convertidor de divisas.\n",
            "Introduce el código de tres letras de la divisa inicial (por ejemplo, MXN),\n",
            "código de divisa destino (por ejemplo, USD) y la cantidad que pretendes convertir.\n",
            "El resultado será la cantidad en la divisa destino.\n",
            "Si quieres salir de programa, solo pulsa la tecla Enter al momento de especificar\n",
            "la divisa.\n",
            "¡Suerte en tus conversiones!\n",
            "------------------------------------------------------------------------------\n",
            "\n"
          ]
        }
      ]
    },
    {
      "cell_type": "code",
      "source": [
        "exchange_dict = ()\n",
        "my_currency = str(input(\"Divisa inicial: \"))\n",
        "my_currency = my_currency.lower()\n",
        "if my_currency == \"\":\n",
        "  print(\"¡Adios!\")\n",
        "else:\n",
        "  try:\n",
        "    exchange_file = currency_search(my_currency)\n",
        "    exchange_dict = json.loads(exchange_file)\n",
        "    #print(json.dumps(exchange_dict, indent=4))\n",
        "    print(\"Divisa se encontro en la base de datos, podemos trabajar\")\n",
        "  except:\n",
        "    print(\"Divisa no encontrada\")"
      ],
      "metadata": {
        "colab": {
          "base_uri": "https://localhost:8080/"
        },
        "id": "bHnCoKBY0ZiA",
        "outputId": "a1f3132a-6cd9-45bd-e65a-a9fd8059cec9"
      },
      "execution_count": 5,
      "outputs": [
        {
          "output_type": "stream",
          "name": "stdout",
          "text": [
            "Divisa inicial: MXN\n",
            "Divisa se encontro en la base de datos, podemos trabajar\n"
          ]
        }
      ]
    },
    {
      "cell_type": "markdown",
      "source": [],
      "metadata": {
        "id": "mjzb__lJPoMo"
      }
    },
    {
      "cell_type": "code",
      "source": [
        "while exchange_dict:\n",
        "    target = str(input(\"\\nDivisa destino: \"))\n",
        "    if target == \"\":\n",
        "        print(\"¡Adios!\")\n",
        "        break\n",
        "    target = target.lower()\n",
        "    try:\n",
        "      cambio = exchange_dict[target][\"rate\"]\n",
        "    except:\n",
        "      print(\"Divisa no encontrada\")\n",
        "      continue\n",
        "    try:\n",
        "      amount = float(input(f\"Cantidad de dinero por convertir ({my_currency.upper()}): \"))\n",
        "    except:\n",
        "      print(\"Cantidad introducida no es valida\")\n",
        "      continue\n",
        "\n",
        "    target_amount = cambio * amount\n",
        "    print(\"Resultado de conversión: {} {}.\".format(round(target_amount, 2), target.upper()))\n"
      ],
      "metadata": {
        "colab": {
          "base_uri": "https://localhost:8080/"
        },
        "id": "2NN2TfJw2Smp",
        "outputId": "59822a98-28a2-4378-a1bd-ef74a5c844ca"
      },
      "execution_count": 7,
      "outputs": [
        {
          "output_type": "stream",
          "name": "stdout",
          "text": [
            "\n",
            "Divisa destino: MXN\n",
            "Divisa no encontrada\n",
            "\n",
            "Divisa destino: USD\n",
            "Cantidad de dinero por convertir (MXN): 100\n",
            "Resultado de conversión: 5.43 USD.\n",
            "\n",
            "Divisa destino: 300\n",
            "Divisa no encontrada\n",
            "\n",
            "Divisa destino: RUB\n",
            "Cantidad de dinero por convertir (MXN): 100\n",
            "Resultado de conversión: 440.99 RUB.\n",
            "\n",
            "Divisa destino: USD\n",
            "Cantidad de dinero por convertir (MXN): RRR\n",
            "Cantidad introducida no es valida\n",
            "\n",
            "Divisa destino: \n",
            "¡Adios!\n"
          ]
        }
      ]
    }
  ]
}